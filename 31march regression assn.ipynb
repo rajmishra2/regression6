{
 "cells": [
  {
   "cell_type": "markdown",
   "id": "aa1e4342-65e9-4ed5-a269-3da42752aacc",
   "metadata": {},
   "source": [
    "Q1. What are the key steps involved in building an end-to-end web application, from development to\n",
    "deployment on the cloud?\n",
    "\n",
    "\n",
    "\n",
    "DATA COLLECTION\n",
    "EDA\n",
    "FE\n",
    "FS\n",
    "MODEL TRAIN\n",
    "WEB APP\n",
    "DEPLOYMENT\n"
   ]
  },
  {
   "cell_type": "markdown",
   "id": "0db13dbc-9d34-4380-9751-a7a812a2ba6c",
   "metadata": {},
   "source": [
    "Q2. Explain the difference between traditional web hosting and cloud hosting.\n",
    "Cloud hosting uses a network of servers in different locations to host websites, while traditional hosting uses a single server or a group of servers located in a single location."
   ]
  },
  {
   "cell_type": "markdown",
   "id": "70efe981-eacf-4146-b0bc-21af6cd0ad46",
   "metadata": {},
   "source": [
    "Q3. How do you choose the right cloud provider for your application deployment, and what factors\n",
    "should you consider?\n",
    "\n",
    "1-Service Offerings. In this first step, you need to determine whether the cloud provider offers the specific services and tools your organization needs. ...\n",
    "2-Scalability. ...\n",
    "3-Performance. ...\n",
    "4-Data Center Locations. ...\n",
    "5-Security. ...\n",
    "6-Compliance. ...\n",
    "7-Data Backup and Disaster Recovery. ."
   ]
  },
  {
   "cell_type": "markdown",
   "id": "7d969f4b-eb25-434a-bd6c-5723723e3d8f",
   "metadata": {},
   "source": [
    "Q4. How do you design and build a responsive user interface for your web application, and what are\n",
    "some best practices to follow?\n",
    "Using the viewport meta tag. To create a Responsive Web App, the first step is to set up your website so that it can be viewed on multiple devices. ...\n",
    "Media Queries. ...\n",
    "Fluid layouts. ...\n",
    "Responsive images. ...\n",
    "Mobile subdomains. ...\n",
    "Test your website on different screen sizes."
   ]
  },
  {
   "cell_type": "code",
   "execution_count": null,
   "id": "f6859fac-f027-4ba6-8426-4d1d6bb85146",
   "metadata": {},
   "outputs": [],
   "source": [
    "Q5. How do you integrate the machine learning model with the user interface for the Algerian Forest Fires\n",
    "project(which we discussed in class), and what APIs or libraries can you use for this purpose?\n",
    "\n",
    "1-initial dateset \n",
    "2-cleaned dataset\n",
    "3-principal component analysis\n",
    "4-reduced dataset\n",
    "library"
   ]
  }
 ],
 "metadata": {
  "kernelspec": {
   "display_name": "Python 3 (ipykernel)",
   "language": "python",
   "name": "python3"
  },
  "language_info": {
   "codemirror_mode": {
    "name": "ipython",
    "version": 3
   },
   "file_extension": ".py",
   "mimetype": "text/x-python",
   "name": "python",
   "nbconvert_exporter": "python",
   "pygments_lexer": "ipython3",
   "version": "3.10.8"
  }
 },
 "nbformat": 4,
 "nbformat_minor": 5
}
